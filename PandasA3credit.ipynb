{
  "nbformat": 4,
  "nbformat_minor": 0,
  "metadata": {
    "colab": {
      "provenance": []
    },
    "kernelspec": {
      "name": "python3",
      "display_name": "Python 3"
    },
    "language_info": {
      "name": "python"
    }
  },
  "cells": [
    {
      "cell_type": "code",
      "execution_count": 86,
      "metadata": {
        "id": "sOVgm9GFrSmr"
      },
      "outputs": [],
      "source": [
        "import numbers\n",
        "import numpy as np\n",
        "import pandas as pd\n",
        "\n",
        "dictionary1 = {'A':'a', 'B':'b', 'C':'c', 'D':'d', 'E':'e'}\n",
        "dictionary2 = {'A':1, 'B':2, 'C':3, 'D':4, 'E':5}\n",
        "\n",
        "s1 = pd.Series(dictionary1, name = 'lowercase')\n",
        "s2 = pd.Series(dictionary2, name = 'numbers')\n",
        "q1 = pd.merge(s1, s2, right_index = True, left_index = True)\n",
        "\n",
        "\n",
        "Q1 = q1.loc['C', 'numbers']\n",
        "\n",
        "Q2 = q1.iloc[1:5,0:]\n",
        "\n",
        "Q3 = q1.loc['D']\n",
        "\n",
        "Q4 = q1.loc[[\"A\",\"B\",\"C\"], [\"numbers\"]]\n",
        "\n",
        "Q5 = q1.loc[[\"A\",\"C\",\"D\"],[\"lowercase\",\"numbers\"]]\n",
        "\n",
        "Q6 = q1.loc['C']\n",
        "\n",
        "Q7 = q1.loc['E', 'numbers']\n",
        "\n",
        "Q8 = q1.loc[[\"C\",\"D\",\"E\"],[\"lowercase\",\"numbers\"]]\n",
        "\n",
        "Q9 = q1.loc[(q1['numbers'] < 3)]\n",
        "\n",
        "Q10 = q1.iloc[3,0:2]\n",
        "\n",
        "Q11 = q1.iloc[4,1]\n",
        "\n",
        "index=[0,2,3]\n",
        "Q12 = q1.iloc[index]\n",
        "\n",
        "index=[2,3,4]\n",
        "Q13 = q1.iloc[index]\n",
        "\n",
        "index=[0,1,2,3,4]\n",
        "Q14 = q1.iloc[index,0]\n",
        "\n",
        "dictionary3 = {'A':'a', 'B':'b', 'C':'c', 'D':'d', 'E':'e'}\n",
        "dictionary4 = {'A':1, 'B':2, 'C':3, 'D':4, 'E':5}\n",
        "\n",
        "s3 = pd.Series(dictionary1, name = 'lowercase')\n",
        "s4 = pd.Series(dictionary2, name = 'numbers')\n",
        "s5 = pd.Series(q1['numbers'] / q1['numbers'].sum(), name = 'percent')\n",
        "Q15 = pd.merge(s4, s5, right_index = True, left_index = True)\n"
      ]
    }
  ]
}